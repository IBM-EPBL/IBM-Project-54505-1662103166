{
 "cells": [
  {
   "cell_type": "markdown",
   "id": "b66f8ee2-f25d-4d65-8590-6766d9a30a62",
   "metadata": {},
   "source": [
    "# IBM Project: Real-Time Communication System Powered by AI for Specially Abled\n"
   ]
  },
  {
   "cell_type": "markdown",
   "id": "a3f5c494-0987-4fda-a019-2123fbc1f76f",
   "metadata": {},
   "source": [
    "# --------------------------------------------------------------------------------------------------"
   ]
  },
  {
   "cell_type": "markdown",
   "id": "cfc3aaec-403e-4707-bea4-88a936c07c13",
   "metadata": {},
   "source": [
    "# IMPORTING NECESSARY LIBRARIES"
   ]
  },
  {
   "cell_type": "code",
   "execution_count": 1,
   "id": "d8b7dccb-12a3-4591-ba10-00cb2e18f6eb",
   "metadata": {},
   "outputs": [],
   "source": [
    "import os\n",
    "import cv2\n",
    "import numpy as np\n",
    "import matplotlib.pyplot as plt\n",
    "from keras.preprocessing.image import ImageDataGenerator"
   ]
  },
  {
   "cell_type": "code",
   "execution_count": 2,
   "id": "0e286070-ebc9-403e-8acd-13eefd475a23",
   "metadata": {},
   "outputs": [],
   "source": [
    "train_data_path = '../train_dataset/'\n",
    "test_data_path = '../test_dataset/'"
   ]
  },
  {
   "cell_type": "code",
   "execution_count": 3,
   "id": "0d14bc5c-6963-4218-ba58-f4328d240721",
   "metadata": {},
   "outputs": [],
   "source": [
    "def display(img,sign=None):\n",
    "    \n",
    "    img = cv2.cvtColor(img,cv2.COLOR_BGR2RGB)\n",
    "    fig = plt.figure(figsize=(7,7))\n",
    "    ax = fig.add_subplot(111)\n",
    "    plt.title(sign)\n",
    "    ax.imshow(img)"
   ]
  },
  {
   "cell_type": "code",
   "execution_count": 4,
   "id": "107a7f61-1275-40c8-9f8c-626d117812b2",
   "metadata": {
    "tags": []
   },
   "outputs": [],
   "source": [
    "image_gen = ImageDataGenerator(rotation_range=30,\n",
    "                              width_shift_range=0.1,\n",
    "                              height_shift_range=0.1,\n",
    "                              shear_range=0.2,\n",
    "                              zoom_range=0.2,\n",
    "                              rescale=1./255,\n",
    "                              horizontal_flip=True,\n",
    "                              fill_mode='nearest',\n",
    "                              validation_split=0.25)"
   ]
  },
  {
   "cell_type": "code",
   "execution_count": 5,
   "id": "7613f5bd-082b-4292-9234-d1045d1d1c52",
   "metadata": {},
   "outputs": [
    {
     "name": "stdout",
     "output_type": "stream",
     "text": [
      "Found 41625 images belonging to 37 classes.\n"
     ]
    }
   ],
   "source": [
    "train_data_gen = image_gen.flow_from_directory(train_data_path,\n",
    "                                           target_size=(256,256),\n",
    "                                           batch_size=32,\n",
    "                                           shuffle=True,\n",
    "                                           class_mode='categorical',\n",
    "                                           subset='training',\n",
    "                                               color_mode='grayscale')"
   ]
  },
  {
   "cell_type": "code",
   "execution_count": 6,
   "id": "afe56fdf-0ece-4c20-aefb-a3dc58631df5",
   "metadata": {},
   "outputs": [
    {
     "name": "stdout",
     "output_type": "stream",
     "text": [
      "Found 13875 images belonging to 37 classes.\n"
     ]
    }
   ],
   "source": [
    "validation_data_gen = image_gen.flow_from_directory(train_data_path,\n",
    "                                           target_size=(256,256),\n",
    "                                           batch_size=32,\n",
    "                                           shuffle=True,\n",
    "                                           class_mode='categorical',\n",
    "                                           subset='validation',\n",
    "                                                     color_mode='grayscale')"
   ]
  },
  {
   "cell_type": "code",
   "execution_count": 7,
   "id": "86153843-f0ff-4174-9727-42172075ccb0",
   "metadata": {},
   "outputs": [
    {
     "name": "stdout",
     "output_type": "stream",
     "text": [
      "Found 2587 images belonging to 37 classes.\n"
     ]
    }
   ],
   "source": [
    "test_data_gen = image_gen.flow_from_directory(test_data_path,\n",
    "                                           target_size=(256,256),\n",
    "                                           batch_size=32,\n",
    "                                           shuffle=True,\n",
    "                                           class_mode='categorical',\n",
    "                                            color_mode='grayscale'\n",
    "                                           )"
   ]
  },
  {
   "cell_type": "code",
   "execution_count": 8,
   "id": "fb9ed4a5-92f2-4065-ad6a-97f8dadc2c9c",
   "metadata": {},
   "outputs": [],
   "source": [
    "import tensorflow as tf\n",
    "from keras.models import Sequential\n",
    "from keras.layers import Dense,Conv2D,MaxPooling2D,Flatten,Dropout"
   ]
  },
  {
   "cell_type": "code",
   "execution_count": 9,
   "id": "db435abd-0542-4512-b6ae-e7d1ec80d7fd",
   "metadata": {},
   "outputs": [],
   "source": [
    "model = Sequential()\n",
    "\n",
    "model.add(Conv2D(filters=32,kernel_size=(3,3),input_shape=(256,256,1),activation='relu'))\n",
    "model.add(MaxPooling2D(pool_size=(2,2)))\n",
    "\n",
    "model.add(Conv2D(filters=64,kernel_size=(3,3),activation='relu'))\n",
    "model.add(MaxPooling2D(pool_size=(2,2)))\n",
    "\n",
    "model.add(Conv2D(filters=128,kernel_size=(3,3),activation='relu'))\n",
    "model.add(MaxPooling2D(pool_size=(2,2)))\n",
    "\n",
    "model.add(Conv2D(filters=128,kernel_size=(3,3),activation='relu'))\n",
    "model.add(MaxPooling2D(pool_size=(2,2)))\n",
    "\n",
    "model.add(Conv2D(filters=256,kernel_size=(3,3),activation='relu'))\n",
    "model.add(MaxPooling2D(pool_size=(2,2)))\n",
    "\n",
    "model.add(Conv2D(filters=256,kernel_size=(3,3),activation='relu'))\n",
    "model.add(MaxPooling2D(pool_size=(2,2)))\n",
    "\n",
    "model.add(Flatten())\n",
    "\n",
    "model.add(Dense(units=512, activation='relu'))\n",
    "model.add(Dense(units=37, activation='softmax'))\n",
    "\n",
    "model.compile(loss='categorical_crossentropy', optimizer='adam', metrics=['accuracy'])"
   ]
  },
  {
   "cell_type": "code",
   "execution_count": 42,
   "id": "a2ae7184-b9b5-44ba-9259-dfb1692044f1",
   "metadata": {},
   "outputs": [],
   "source": [
    "from keras.callbacks import ModelCheckpoint\n",
    "checkpoint = ModelCheckpoint('sld_model.h5',monitor='val_loss',mode='min',save_best_only=True)\n",
    "\n",
    "cbs = [checkpoint]"
   ]
  },
  {
   "cell_type": "code",
   "execution_count": 11,
   "id": "99f8714f-1cff-491b-8ac4-5789faf2265d",
   "metadata": {},
   "outputs": [
    {
     "name": "stdout",
     "output_type": "stream",
     "text": [
      "Epoch 1/100\n",
      "100/100 [==============================] - 335s 3s/step - loss: 3.1987 - accuracy: 0.0697 - val_loss: 2.7720 - val_accuracy: 0.1181\n",
      "Epoch 2/100\n",
      "100/100 [==============================] - 316s 3s/step - loss: 2.4819 - accuracy: 0.2019 - val_loss: 2.0257 - val_accuracy: 0.3262\n",
      "Epoch 3/100\n",
      "100/100 [==============================] - 314s 3s/step - loss: 1.8010 - accuracy: 0.4087 - val_loss: 1.6578 - val_accuracy: 0.4219\n",
      "Epoch 4/100\n",
      "100/100 [==============================] - 314s 3s/step - loss: 1.3102 - accuracy: 0.5581 - val_loss: 1.2392 - val_accuracy: 0.6000\n",
      "Epoch 5/100\n",
      "100/100 [==============================] - 314s 3s/step - loss: 1.0341 - accuracy: 0.6463 - val_loss: 0.8750 - val_accuracy: 0.7156\n",
      "Epoch 6/100\n",
      "100/100 [==============================] - 313s 3s/step - loss: 0.7323 - accuracy: 0.7616 - val_loss: 0.7827 - val_accuracy: 0.7356\n",
      "Epoch 7/100\n",
      "100/100 [==============================] - 313s 3s/step - loss: 0.6565 - accuracy: 0.7831 - val_loss: 0.6428 - val_accuracy: 0.7719\n",
      "Epoch 8/100\n",
      "100/100 [==============================] - 313s 3s/step - loss: 0.5100 - accuracy: 0.8266 - val_loss: 0.5102 - val_accuracy: 0.8288\n",
      "Epoch 9/100\n",
      "100/100 [==============================] - 313s 3s/step - loss: 0.4035 - accuracy: 0.8719 - val_loss: 0.4387 - val_accuracy: 0.8438\n",
      "Epoch 10/100\n",
      "100/100 [==============================] - 314s 3s/step - loss: 0.3337 - accuracy: 0.8906 - val_loss: 0.4049 - val_accuracy: 0.8744\n",
      "Epoch 11/100\n",
      "100/100 [==============================] - 314s 3s/step - loss: 0.3193 - accuracy: 0.8884 - val_loss: 0.3767 - val_accuracy: 0.8706\n",
      "Epoch 12/100\n",
      "100/100 [==============================] - 313s 3s/step - loss: 0.3024 - accuracy: 0.9013 - val_loss: 0.2988 - val_accuracy: 0.9050\n",
      "Epoch 13/100\n",
      "100/100 [==============================] - 313s 3s/step - loss: 0.2180 - accuracy: 0.9273 - val_loss: 0.2497 - val_accuracy: 0.9175\n",
      "Epoch 14/100\n",
      "100/100 [==============================] - 322s 3s/step - loss: 0.2499 - accuracy: 0.9194 - val_loss: 0.2392 - val_accuracy: 0.9244\n",
      "Epoch 15/100\n",
      "100/100 [==============================] - 365s 4s/step - loss: 0.1750 - accuracy: 0.9422 - val_loss: 0.2355 - val_accuracy: 0.9219\n",
      "Epoch 16/100\n",
      "100/100 [==============================] - 382s 4s/step - loss: 0.2119 - accuracy: 0.9325 - val_loss: 0.2035 - val_accuracy: 0.9356\n",
      "Epoch 17/100\n",
      "100/100 [==============================] - 345s 3s/step - loss: 0.1606 - accuracy: 0.9469 - val_loss: 0.1871 - val_accuracy: 0.9369\n",
      "Epoch 18/100\n",
      "100/100 [==============================] - 338s 3s/step - loss: 0.1493 - accuracy: 0.9500 - val_loss: 0.2550 - val_accuracy: 0.9212\n",
      "Epoch 19/100\n",
      "100/100 [==============================] - 322s 3s/step - loss: 0.1512 - accuracy: 0.9531 - val_loss: 0.1547 - val_accuracy: 0.9506\n",
      "Epoch 20/100\n",
      "100/100 [==============================] - 321s 3s/step - loss: 0.1271 - accuracy: 0.9588 - val_loss: 0.1864 - val_accuracy: 0.9431\n",
      "Epoch 21/100\n",
      "100/100 [==============================] - 327s 3s/step - loss: 0.1458 - accuracy: 0.9525 - val_loss: 0.1536 - val_accuracy: 0.9475\n",
      "Epoch 22/100\n",
      "100/100 [==============================] - 318s 3s/step - loss: 0.1400 - accuracy: 0.9538 - val_loss: 0.1919 - val_accuracy: 0.9356\n",
      "Epoch 23/100\n",
      "100/100 [==============================] - 320s 3s/step - loss: 0.1174 - accuracy: 0.9647 - val_loss: 0.1812 - val_accuracy: 0.9475\n",
      "Epoch 24/100\n",
      "100/100 [==============================] - 317s 3s/step - loss: 0.1389 - accuracy: 0.9519 - val_loss: 0.1372 - val_accuracy: 0.9569\n",
      "Epoch 25/100\n",
      "100/100 [==============================] - 324s 3s/step - loss: 0.0891 - accuracy: 0.9706 - val_loss: 0.1424 - val_accuracy: 0.9494\n",
      "Epoch 26/100\n",
      "100/100 [==============================] - 320s 3s/step - loss: 0.1000 - accuracy: 0.9659 - val_loss: 0.1422 - val_accuracy: 0.9556\n",
      "Epoch 27/100\n",
      "100/100 [==============================] - 317s 3s/step - loss: 0.1164 - accuracy: 0.9631 - val_loss: 0.0957 - val_accuracy: 0.9675\n",
      "Epoch 28/100\n",
      "100/100 [==============================] - 320s 3s/step - loss: 0.0979 - accuracy: 0.9659 - val_loss: 0.0979 - val_accuracy: 0.9688\n",
      "Epoch 29/100\n",
      "100/100 [==============================] - 321s 3s/step - loss: 0.0670 - accuracy: 0.9791 - val_loss: 0.1233 - val_accuracy: 0.9575\n",
      "Epoch 30/100\n",
      "100/100 [==============================] - 317s 3s/step - loss: 0.0832 - accuracy: 0.9737 - val_loss: 0.1312 - val_accuracy: 0.9631\n",
      "Epoch 31/100\n",
      "100/100 [==============================] - 318s 3s/step - loss: 0.0886 - accuracy: 0.9725 - val_loss: 0.1956 - val_accuracy: 0.9438\n",
      "Epoch 32/100\n",
      "100/100 [==============================] - 319s 3s/step - loss: 0.0761 - accuracy: 0.9762 - val_loss: 0.1748 - val_accuracy: 0.9506\n",
      "Epoch 33/100\n",
      "100/100 [==============================] - 316s 3s/step - loss: 0.1050 - accuracy: 0.9637 - val_loss: 0.1199 - val_accuracy: 0.9631\n",
      "Epoch 34/100\n",
      "100/100 [==============================] - 317s 3s/step - loss: 0.0537 - accuracy: 0.9831 - val_loss: 0.1268 - val_accuracy: 0.9563\n",
      "Epoch 35/100\n",
      "100/100 [==============================] - 321s 3s/step - loss: 0.1455 - accuracy: 0.9513 - val_loss: 0.1211 - val_accuracy: 0.9663\n",
      "Epoch 36/100\n",
      "100/100 [==============================] - 317s 3s/step - loss: 0.0927 - accuracy: 0.9719 - val_loss: 0.1216 - val_accuracy: 0.9669\n",
      "Epoch 37/100\n",
      "100/100 [==============================] - 318s 3s/step - loss: 0.0810 - accuracy: 0.9747 - val_loss: 0.1093 - val_accuracy: 0.9575\n",
      "Epoch 38/100\n",
      "100/100 [==============================] - 316s 3s/step - loss: 0.0534 - accuracy: 0.9822 - val_loss: 0.0974 - val_accuracy: 0.9663\n",
      "Epoch 39/100\n",
      "100/100 [==============================] - 323s 3s/step - loss: 0.0678 - accuracy: 0.9778 - val_loss: 0.1427 - val_accuracy: 0.9538\n",
      "Epoch 40/100\n",
      "100/100 [==============================] - 317s 3s/step - loss: 0.0823 - accuracy: 0.9728 - val_loss: 0.1318 - val_accuracy: 0.9563\n",
      "Epoch 41/100\n",
      "100/100 [==============================] - 317s 3s/step - loss: 0.0617 - accuracy: 0.9794 - val_loss: 0.1100 - val_accuracy: 0.9688\n",
      "Epoch 42/100\n",
      "100/100 [==============================] - 316s 3s/step - loss: 0.0720 - accuracy: 0.9759 - val_loss: 0.1014 - val_accuracy: 0.9681\n",
      "Epoch 43/100\n",
      "100/100 [==============================] - 316s 3s/step - loss: 0.0610 - accuracy: 0.9806 - val_loss: 0.0587 - val_accuracy: 0.9806\n",
      "Epoch 44/100\n",
      "100/100 [==============================] - 343s 3s/step - loss: 0.0313 - accuracy: 0.9903 - val_loss: 0.0918 - val_accuracy: 0.9694\n",
      "Epoch 45/100\n",
      "100/100 [==============================] - 317s 3s/step - loss: 0.0555 - accuracy: 0.9812 - val_loss: 0.0856 - val_accuracy: 0.9750\n",
      "Epoch 46/100\n",
      "100/100 [==============================] - 319s 3s/step - loss: 0.0662 - accuracy: 0.9797 - val_loss: 0.0917 - val_accuracy: 0.9719\n",
      "Epoch 47/100\n",
      "100/100 [==============================] - 317s 3s/step - loss: 0.0635 - accuracy: 0.9797 - val_loss: 0.0842 - val_accuracy: 0.9712\n",
      "Epoch 48/100\n",
      "100/100 [==============================] - 317s 3s/step - loss: 0.0773 - accuracy: 0.9762 - val_loss: 0.0869 - val_accuracy: 0.9756\n",
      "Epoch 49/100\n",
      "100/100 [==============================] - 316s 3s/step - loss: 0.0894 - accuracy: 0.9712 - val_loss: 0.1474 - val_accuracy: 0.9506\n",
      "Epoch 50/100\n",
      "100/100 [==============================] - 317s 3s/step - loss: 0.0495 - accuracy: 0.9859 - val_loss: 0.0574 - val_accuracy: 0.9837\n",
      "Epoch 51/100\n",
      "100/100 [==============================] - 317s 3s/step - loss: 0.0475 - accuracy: 0.9859 - val_loss: 0.0706 - val_accuracy: 0.9787\n",
      "Epoch 52/100\n",
      "100/100 [==============================] - 316s 3s/step - loss: 0.0470 - accuracy: 0.9872 - val_loss: 0.0648 - val_accuracy: 0.9775\n",
      "Epoch 53/100\n",
      "100/100 [==============================] - 319s 3s/step - loss: 0.0516 - accuracy: 0.9825 - val_loss: 0.0713 - val_accuracy: 0.9756\n",
      "Epoch 54/100\n",
      "100/100 [==============================] - 318s 3s/step - loss: 0.0606 - accuracy: 0.9806 - val_loss: 0.1129 - val_accuracy: 0.9600\n",
      "Epoch 55/100\n",
      "100/100 [==============================] - 316s 3s/step - loss: 0.0609 - accuracy: 0.9800 - val_loss: 0.0855 - val_accuracy: 0.9775\n",
      "Epoch 56/100\n",
      "100/100 [==============================] - 318s 3s/step - loss: 0.0526 - accuracy: 0.9816 - val_loss: 0.0449 - val_accuracy: 0.9837\n",
      "Epoch 57/100\n",
      "100/100 [==============================] - 316s 3s/step - loss: 0.0457 - accuracy: 0.9837 - val_loss: 0.0658 - val_accuracy: 0.9812\n",
      "Epoch 58/100\n",
      "100/100 [==============================] - 317s 3s/step - loss: 0.0433 - accuracy: 0.9856 - val_loss: 0.0924 - val_accuracy: 0.9731\n",
      "Epoch 59/100\n",
      "100/100 [==============================] - 318s 3s/step - loss: 0.0748 - accuracy: 0.9759 - val_loss: 0.0658 - val_accuracy: 0.9775\n",
      "Epoch 60/100\n",
      "100/100 [==============================] - 322s 3s/step - loss: 0.0492 - accuracy: 0.9862 - val_loss: 0.0687 - val_accuracy: 0.9819\n",
      "Epoch 61/100\n",
      "100/100 [==============================] - 317s 3s/step - loss: 0.0229 - accuracy: 0.9919 - val_loss: 0.0611 - val_accuracy: 0.9800\n",
      "Epoch 62/100\n",
      "100/100 [==============================] - 318s 3s/step - loss: 0.0932 - accuracy: 0.9728 - val_loss: 0.0840 - val_accuracy: 0.9750\n",
      "Epoch 63/100\n",
      "100/100 [==============================] - 320s 3s/step - loss: 0.0491 - accuracy: 0.9837 - val_loss: 0.1301 - val_accuracy: 0.9600\n",
      "Epoch 64/100\n",
      "100/100 [==============================] - 318s 3s/step - loss: 0.0726 - accuracy: 0.9816 - val_loss: 0.0645 - val_accuracy: 0.9800\n",
      "Epoch 65/100\n",
      "100/100 [==============================] - 317s 3s/step - loss: 0.0350 - accuracy: 0.9894 - val_loss: 0.0693 - val_accuracy: 0.9787\n",
      "Epoch 66/100\n",
      "100/100 [==============================] - 323s 3s/step - loss: 0.0376 - accuracy: 0.9881 - val_loss: 0.0463 - val_accuracy: 0.9894\n",
      "Epoch 67/100\n",
      "100/100 [==============================] - 317s 3s/step - loss: 0.0357 - accuracy: 0.9891 - val_loss: 0.0556 - val_accuracy: 0.9869\n",
      "Epoch 68/100\n",
      "100/100 [==============================] - 321s 3s/step - loss: 0.0349 - accuracy: 0.9897 - val_loss: 0.0970 - val_accuracy: 0.9744\n",
      "Epoch 69/100\n",
      "100/100 [==============================] - 341s 3s/step - loss: 0.0684 - accuracy: 0.9772 - val_loss: 0.1086 - val_accuracy: 0.9650\n",
      "Epoch 70/100\n",
      "100/100 [==============================] - 317s 3s/step - loss: 0.0511 - accuracy: 0.9806 - val_loss: 0.0620 - val_accuracy: 0.9794\n",
      "Epoch 71/100\n",
      "100/100 [==============================] - 315s 3s/step - loss: 0.0315 - accuracy: 0.9894 - val_loss: 0.0705 - val_accuracy: 0.9787\n",
      "Epoch 72/100\n",
      "100/100 [==============================] - 316s 3s/step - loss: 0.0386 - accuracy: 0.9875 - val_loss: 0.0766 - val_accuracy: 0.9756\n",
      "Epoch 73/100\n",
      "100/100 [==============================] - 317s 3s/step - loss: 0.0302 - accuracy: 0.9925 - val_loss: 0.0763 - val_accuracy: 0.9781\n",
      "Epoch 74/100\n",
      "100/100 [==============================] - 316s 3s/step - loss: 0.0498 - accuracy: 0.9831 - val_loss: 0.0785 - val_accuracy: 0.9750\n",
      "Epoch 75/100\n",
      "100/100 [==============================] - 315s 3s/step - loss: 0.0260 - accuracy: 0.9909 - val_loss: 0.0763 - val_accuracy: 0.9775\n",
      "Epoch 76/100\n",
      "100/100 [==============================] - 315s 3s/step - loss: 0.0452 - accuracy: 0.9847 - val_loss: 0.1088 - val_accuracy: 0.9731\n",
      "Epoch 77/100\n",
      "100/100 [==============================] - 315s 3s/step - loss: 0.0533 - accuracy: 0.9825 - val_loss: 0.0560 - val_accuracy: 0.9806\n",
      "Epoch 78/100\n",
      "100/100 [==============================] - 316s 3s/step - loss: 0.0468 - accuracy: 0.9862 - val_loss: 0.0503 - val_accuracy: 0.9825\n",
      "Epoch 79/100\n",
      "100/100 [==============================] - 317s 3s/step - loss: 0.0459 - accuracy: 0.9866 - val_loss: 0.0308 - val_accuracy: 0.9906\n",
      "Epoch 80/100\n",
      "100/100 [==============================] - 315s 3s/step - loss: 0.0398 - accuracy: 0.9894 - val_loss: 0.0593 - val_accuracy: 0.9831\n",
      "Epoch 81/100\n",
      "100/100 [==============================] - 316s 3s/step - loss: 0.0464 - accuracy: 0.9859 - val_loss: 0.0654 - val_accuracy: 0.9762\n",
      "Epoch 82/100\n",
      "100/100 [==============================] - 317s 3s/step - loss: 0.0554 - accuracy: 0.9831 - val_loss: 0.1121 - val_accuracy: 0.9675\n",
      "Epoch 83/100\n",
      "100/100 [==============================] - 316s 3s/step - loss: 0.0429 - accuracy: 0.9837 - val_loss: 0.0451 - val_accuracy: 0.9856\n",
      "Epoch 84/100\n",
      "100/100 [==============================] - 316s 3s/step - loss: 0.0355 - accuracy: 0.9887 - val_loss: 0.0275 - val_accuracy: 0.9906\n",
      "Epoch 85/100\n",
      "100/100 [==============================] - 317s 3s/step - loss: 0.0174 - accuracy: 0.9922 - val_loss: 0.0546 - val_accuracy: 0.9825\n",
      "Epoch 86/100\n",
      "100/100 [==============================] - 315s 3s/step - loss: 0.0392 - accuracy: 0.9891 - val_loss: 0.0806 - val_accuracy: 0.9775\n",
      "Epoch 87/100\n",
      "100/100 [==============================] - 315s 3s/step - loss: 0.0359 - accuracy: 0.9884 - val_loss: 0.0575 - val_accuracy: 0.9831\n",
      "Epoch 88/100\n",
      "100/100 [==============================] - 317s 3s/step - loss: 0.0309 - accuracy: 0.9894 - val_loss: 0.0697 - val_accuracy: 0.9750\n",
      "Epoch 89/100\n",
      "100/100 [==============================] - 314s 3s/step - loss: 0.0348 - accuracy: 0.9903 - val_loss: 0.0382 - val_accuracy: 0.9875\n",
      "Epoch 90/100\n",
      "100/100 [==============================] - 317s 3s/step - loss: 0.0527 - accuracy: 0.9841 - val_loss: 0.0265 - val_accuracy: 0.9894\n",
      "Epoch 91/100\n",
      "100/100 [==============================] - 316s 3s/step - loss: 0.0214 - accuracy: 0.9912 - val_loss: 0.0625 - val_accuracy: 0.9825\n",
      "Epoch 92/100\n",
      "100/100 [==============================] - 315s 3s/step - loss: 0.0435 - accuracy: 0.9859 - val_loss: 0.1183 - val_accuracy: 0.9700\n",
      "Epoch 93/100\n",
      "100/100 [==============================] - 316s 3s/step - loss: 0.0372 - accuracy: 0.9869 - val_loss: 0.0928 - val_accuracy: 0.9725\n",
      "Epoch 94/100\n",
      "100/100 [==============================] - 315s 3s/step - loss: 0.0350 - accuracy: 0.9875 - val_loss: 0.0488 - val_accuracy: 0.9825\n",
      "Epoch 95/100\n",
      "100/100 [==============================] - 315s 3s/step - loss: 0.0564 - accuracy: 0.9803 - val_loss: 0.0490 - val_accuracy: 0.9850\n",
      "Epoch 96/100\n",
      "100/100 [==============================] - 316s 3s/step - loss: 0.0444 - accuracy: 0.9856 - val_loss: 0.0541 - val_accuracy: 0.9831\n",
      "Epoch 97/100\n",
      "100/100 [==============================] - 315s 3s/step - loss: 0.0374 - accuracy: 0.9875 - val_loss: 0.0858 - val_accuracy: 0.9700\n",
      "Epoch 98/100\n",
      "100/100 [==============================] - 315s 3s/step - loss: 0.0322 - accuracy: 0.9912 - val_loss: 0.0575 - val_accuracy: 0.9831\n",
      "Epoch 99/100\n",
      "100/100 [==============================] - 315s 3s/step - loss: 0.0161 - accuracy: 0.9941 - val_loss: 0.0259 - val_accuracy: 0.9925\n",
      "Epoch 100/100\n",
      "100/100 [==============================] - 316s 3s/step - loss: 0.0208 - accuracy: 0.9928 - val_loss: 0.1010 - val_accuracy: 0.9769\n"
     ]
    }
   ],
   "source": [
    "history = model.fit(train_data_gen, epochs=100, steps_per_epoch=100, validation_data=validation_data_gen, validation_steps=50, callbacks=cbs)"
   ]
  },
  {
   "cell_type": "code",
   "execution_count": 29,
   "id": "9a1a6680-d9f3-4c82-a2fd-7cc2ee067050",
   "metadata": {},
   "outputs": [
    {
     "data": {
      "image/png": "[encoded data removed]",
      "text/plain": [
       "<Figure size 432x288 with 1 Axes>"
      ]
     },
     "metadata": {
      "needs_background": "light"
     },
     "output_type": "display_data"
    }
   ],
   "source": [
    "import matplotlib.pyplot as plt\n",
    "plt.figure()\n",
    "plt.plot(history.epoch,history.history['val_accuracy'])\n",
    "plt.xlabel('Epochs')\n",
    "plt.ylabel('Accuracy')\n",
    "plt.title('Validation Accuracy')\n",
    "plt.show()"
   ]
  },
  {
   "cell_type": "code",
   "execution_count": 30,
   "id": "1513cf35-eb99-4a18-a865-9415a07c9db0",
   "metadata": {},
   "outputs": [
    {
     "data": {
      "image/png": "[encoded data removed]",
      "text/plain": [
       "<Figure size 432x288 with 1 Axes>"
      ]
     },
     "metadata": {
      "needs_background": "light"
     },
     "output_type": "display_data"
    }
   ],
   "source": [
    "plt.figure()\n",
    "plt.plot(history.epoch,history.history['val_loss'])\n",
    "plt.xlabel('Epochs')\n",
    "plt.ylabel('Loss')\n",
    "plt.title('Validation Loss')\n",
    "plt.show()"
   ]
  },
  {
   "cell_type": "code",
   "execution_count": 13,
   "id": "91b8b13d-6ef1-49ca-b07d-cda1f8ace609",
   "metadata": {
    "executionInfo": {
     "elapsed": 3582,
     "status": "ok",
     "timestamp": 1647064077700,
     "user": {
      "displayName": "Mohnish Sai Prasad",
      "photoUrl": "https://lh3.googleusercontent.com/a-/AOh14GhF5AG1lgwcGAlKR4G6apQicUyCvgYx61ebb4PS=s64",
      "userId": "10901558412853965541"
     },
     "user_tz": -330
    },
    "id": "o77GvFUSpkv7"
   },
   "outputs": [],
   "source": [
    "from keras.models import load_model"
   ]
  },
  {
   "cell_type": "code",
   "execution_count": 43,
   "id": "859b7429-bbe9-4d71-b496-a572faf5e44f",
   "metadata": {
    "executionInfo": {
     "elapsed": 1547,
     "status": "ok",
     "timestamp": 1647064107414,
     "user": {
      "displayName": "Mohnish Sai Prasad",
      "photoUrl": "https://lh3.googleusercontent.com/a-/AOh14GhF5AG1lgwcGAlKR4G6apQicUyCvgYx61ebb4PS=s64",
      "userId": "10901558412853965541"
     },
     "user_tz": -330
    },
    "id": "UXpGmpbGpkv8"
   },
   "outputs": [],
   "source": [
    "model = load_model('sld_model.h5')"
   ]
  },
  {
   "cell_type": "code",
   "execution_count": 31,
   "id": "fb2fed55-2a1f-4287-b3df-e0de6624c4fc",
   "metadata": {
    "id": "JGRxa1mdpkv-",
    "outputId": "5b2bbb15-fd81-4ffc-bd99-ef740205c1c5"
   },
   "outputs": [
    {
     "name": "stdout",
     "output_type": "stream",
     "text": [
      "434/434 [==============================] - 401s 923ms/step - loss: 0.0229 - accuracy: 0.9919\n"
     ]
    }
   ],
   "source": [
    "quality = model.evaluate(validation_data_gen)"
   ]
  },
  {
   "cell_type": "code",
   "execution_count": 33,
   "id": "54a4423e-7cfd-48dc-a4f8-43c0cbadb779",
   "metadata": {
    "id": "VPg8isW2pkv-",
    "outputId": "21a17ea6-ba27-4a22-c889-ed889f361f20"
   },
   "outputs": [
    {
     "name": "stdout",
     "output_type": "stream",
     "text": [
      "The accuracy of the model is 99.19%\n"
     ]
    }
   ],
   "source": [
    "print('The accuracy of the model is {:.2f}%'.format(quality[1]*100))"
   ]
  },
  {
   "cell_type": "code",
   "execution_count": 34,
   "id": "112c01fb-ae38-4819-bc13-acf1cab0b0fd",
   "metadata": {},
   "outputs": [],
   "source": [
    "label2id = test_data_gen.class_indices"
   ]
  },
  {
   "cell_type": "code",
   "execution_count": 37,
   "id": "d421b2ef-f410-4679-91f6-57fbd9251d24",
   "metadata": {},
   "outputs": [],
   "source": [
    "keys = list(label2id.keys())\n"
   ]
  },
  {
   "cell_type": "code",
   "execution_count": 18,
   "id": "ecfa8bb5-48c4-4849-8780-331de722bb89",
   "metadata": {},
   "outputs": [],
   "source": [
    "from skimage.transform import resize\n",
    "import cv2\n",
    "import numpy as np"
   ]
  },
  {
   "cell_type": "code",
   "execution_count": 40,
   "id": "1442dd96-de8f-4dc4-968d-1f854d20f62a",
   "metadata": {},
   "outputs": [],
   "source": [
    "def detect(frame):\n",
    "    img = resize(frame,(256,256,1))\n",
    "    img = np.expand_dims(img,axis=0)\n",
    "    if(np.max(img)>1):\n",
    "        img = img/255.0\n",
    "    prediction = np.argmax(model.predict(img))\n",
    "    for i in keys:\n",
    "        if label2id[i] == prediction:\n",
    "            print(i+'\\n')"
   ]
  },
  {
   "cell_type": "code",
   "execution_count": 41,
   "id": "28ef4dec-4938-4cf8-83cf-69adc0b0951f",
   "metadata": {},
   "outputs": [
    {
     "name": "stdout",
     "output_type": "stream",
     "text": [
      "Space\n",
      "\n"
     ]
    },
    {
     "data": {
      "image/png": "[encoded data removed]",
      "text/plain": [
       "<Figure size 432x288 with 1 Axes>"
      ]
     },
     "metadata": {
      "needs_background": "light"
     },
     "output_type": "display_data"
    }
   ],
   "source": [
    "# frame = cv2.imread('../1.jpg')\n",
    "frame = cv2.imread('../test_dataset/Space/Space_19.jpeg')\n",
    "frame = cv2.cvtColor(frame, cv2.COLOR_BGR2GRAY)\n",
    "plt.imshow(frame, cmap='gray')\n",
    "data = detect(frame)"
   ]
  },
  {
   "cell_type": "code",
   "execution_count": null,
   "id": "1e97e318-1f3f-4390-b551-7cd38998f0af",
   "metadata": {},
   "outputs": [],
   "source": []
  }
 ],
 "metadata": {
  "kernelspec": {
   "display_name": "Python 3 (ipykernel)",
   "language": "python",
   "name": "python3"
  },
  "language_info": {
   "codemirror_mode": {
    "name": "ipython",
    "version": 3
   },
   "file_extension": ".py",
   "mimetype": "text/x-python",
   "name": "python",
   "nbconvert_exporter": "python",
   "pygments_lexer": "ipython3",
   "version": "3.9.7"
  }
 },
 "nbformat": 4,
 "nbformat_minor": 5
}
